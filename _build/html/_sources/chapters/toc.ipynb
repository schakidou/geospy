{
 "cells": [
  {
   "cell_type": "markdown",
   "id": "949d5d19",
   "metadata": {},
   "source": [
    "# Πίνακας Περιεχομένων\n",
    "\n",
    "- [Κεφάλαιο 1: Εισαγωγή](https://schakidou.github.io/geospy/chapters/01_introduction.html)\n",
    "- [Κεφάλαιο 2: Creating Interactive Maps](https://schakidou.github.io/geospy/chapters/02_maps.html)\n",
    "- [Κεφάλαιο 3: Using Earth Engine Data](https://schakidou.github.io/geospy/chapters/03_gee_data.html)\n",
    "- [Κεφάλαιο 4: Using Local Geospatial Data](https://schakidou.github.io/geospy/chapters/04_local_data.html)\n",
    "- [Κεφάλαιο 5: Visualizing Geospatial Data](https://schakidou.github.io/geospy/chapters/05_data_viz.html)\n",
    "- [Κεφάλαιο 6: Analyzing Geospatial Data](https://schakidou.github.io/geospy/chapters/06_data_analysis.html)\n",
    "- [Κεφάλαιο 7: Exporting Earth Engine Data](https://book.geemap.org/chapters/07_data_export.html)\n",
    "- [Κεφάλαιο 8: Making Maps with Cartoee](https://schakidou.github.io/geospy/chapters/08_cartoee.html)\n",
    "- [Κεφάλαιο 9: Creating Timelapse Animations](https://schakidou.github.io/geospy/chapters/09_timelapse.html)\n",
    "- [Κεφάλαιο 10: Building Interactive Web Apps](https://schakidou.github.io/geospy/chapters/10_webapps.html)\n",
    "- [Κεφάλαιο 11: Earth Engine Applications](hhttps://schakidou.github.io/geospy/chapters/11_applications.html)"
   ]
  }
 ],
 "metadata": {
  "jupytext": {
   "text_representation": {
    "extension": ".md",
    "format_name": "myst",
    "format_version": 0.13,
    "jupytext_version": "1.11.5"
   }
  },
  "kernelspec": {
   "display_name": "Python 3",
   "language": "python",
   "name": "python3"
  },
  "source_map": [
   12
  ]
 },
 "nbformat": 4,
 "nbformat_minor": 5
}