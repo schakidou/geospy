{
 "cells": [
  {
   "cell_type": "markdown",
   "id": "beb7d316",
   "metadata": {},
   "source": [
    "(chapter01)=\n",
    "\n",
    "# \n",
    "\n",
    "```{contents}\n",
    ":local:\n",
    ":depth: 2\n",
    "```"
   ]
  },
  {
   "cell_type": "markdown",
   "id": "9639601a",
   "metadata": {},
   "source": [
    "## Introduction\n",
    "\n",
    "\n",
    "\n",
    "## What is Geospatial Data Science"
   ]
  }
 ],
 "metadata": {
  "jupytext": {
   "text_representation": {
    "extension": ".md",
    "format_name": "myst",
    "format_version": 0.13,
    "jupytext_version": "1.11.5"
   }
  },
  "kernelspec": {
   "display_name": "Python 3",
   "language": "python",
   "name": "python3"
  },
  "source_map": [
   12,
   23
  ]
 },
 "nbformat": 4,
 "nbformat_minor": 5
}